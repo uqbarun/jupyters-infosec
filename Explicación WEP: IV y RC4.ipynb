{
 "cells": [
  {
   "attachments": {},
   "cell_type": "markdown",
   "metadata": {},
   "source": [
    "# RC4\n",
    "Es un algoritmo que se usa para cifrados de flujo, es utilizado dentro de protocolos de red populares como TSL y WEP para proteger el trafico de paquetes de una red\n",
    "\n",
    "<img width=\"50%\" src=\"https://upload.wikimedia.org/wikipedia/commons/thumb/e/e9/RC4.svg/1920px-RC4.svg.png\">"
   ]
  },
  {
   "attachments": {},
   "cell_type": "markdown",
   "metadata": {},
   "source": [
    "# Algoritmos\n"
   ]
  },
  {
   "attachments": {},
   "cell_type": "markdown",
   "metadata": {},
   "source": [
    "## Operación XOR"
   ]
  },
  {
   "cell_type": "code",
   "execution_count": 236,
   "metadata": {},
   "outputs": [
    {
     "data": {
      "text/latex": [
       "$\\displaystyle k=97=01100001 \\\\ m=99=01100011 \\\\ i=5=00000101$"
      ],
      "text/plain": [
       "<IPython.core.display.Math object>"
      ]
     },
     "metadata": {},
     "output_type": "display_data"
    },
    {
     "data": {
      "text/latex": [
       "$\\displaystyle 99 \\oplus 97 \\oplus 5 = 7$"
      ],
      "text/plain": [
       "<IPython.core.display.Math object>"
      ]
     },
     "metadata": {},
     "output_type": "display_data"
    },
    {
     "data": {
      "text/latex": [
       "$\\displaystyle 01100011 \\\\ 01100001 \\\\ 00000101 \\\\ \\rule{1.5cm}{0.1pt} \\\\ 00000111 $"
      ],
      "text/plain": [
       "<IPython.core.display.Math object>"
      ]
     },
     "metadata": {},
     "output_type": "display_data"
    },
    {
     "data": {
      "text/latex": [
       "$\\displaystyle 7 \\oplus 97 \\oplus 5 = 99$"
      ],
      "text/plain": [
       "<IPython.core.display.Math object>"
      ]
     },
     "metadata": {},
     "output_type": "display_data"
    },
    {
     "data": {
      "text/latex": [
       "$\\displaystyle 00000111 \\\\ 01100001 \\\\ 00000101 \\\\ \\rule{1.5cm}{0.1pt} \\\\ 01100011 $"
      ],
      "text/plain": [
       "<IPython.core.display.Math object>"
      ]
     },
     "metadata": {},
     "output_type": "display_data"
    }
   ],
   "source": [
    "from IPython.display import Math, Latex, display\n",
    "\n",
    "def bin2(n): \n",
    "\treturn bin(n)[2:].zfill(8)\n",
    "\n",
    "def showOp(a,b,c,d):\n",
    "\tdisplay(Math(f'{a} \\oplus {b} \\oplus {c} = {d}'))\n",
    "\tdisplay(Math(f'{bin2(a)} \\\\\\\\ {bin2(b)} \\\\\\\\ {bin2(c)} \\\\\\\\ \\\\rule{{1.5cm}}{{0.1pt}} \\\\\\\\ {bin2(d)} ' ))\n",
    "\n",
    "k = b'a'[0]\n",
    "m = b'c'[0]\n",
    "i = 5\n",
    "display(Math(f'k={k}={bin2(k)} \\\\\\\\ m={m}={bin2(m)} \\\\\\\\ i={i}={bin2(i)}'))\n",
    "\n",
    "# Encrpytion\n",
    "c = m ^ k ^ i \n",
    "showOp(m,k,i,c)\n",
    "\n",
    "# Decryption\n",
    "d = c ^ k ^ i \n",
    "showOp(c,k,i,d)"
   ]
  },
  {
   "attachments": {},
   "cell_type": "markdown",
   "metadata": {},
   "source": [
    "**Conlusion:**\n",
    "\n",
    "La razón por la cual XOR es reversible no importa la cantidad de operandos se debe a la forma en que funciona la operación.\n",
    "\n",
    "Por ejemplo, consideremos la operación XOR de tres bits a, b y c, donde d es el resultado: $d = a \\oplus b \\oplus c$. Si se conoce el valor de a, b y d, se puede encontrar el valor de c simplemente haciendo otra operación XOR: $c = a \\oplus b \\oplus d$\n",
    "\n",
    "Este proceso se puede repetir para cualquier número de bits y cualquier número de operandos."
   ]
  },
  {
   "attachments": {},
   "cell_type": "markdown",
   "metadata": {},
   "source": [
    "## Key-Scheduling Algorithm (KSA)\n",
    "El KSA genera la permutación en el S-Box basándose en una clave de longitud variable (\"keylength\", entre 40 y 2048 bits).\n",
    "\n",
    "Primero se llena el S-box (llamado \"S\" a continuación) con los valores de 0 a 255 en secuencia (permutación identidad); después se lo procesa 256 veces tal como lo hace el PRGA principal, excepto que, además, se mezclan bytes tomados de la clave (\"K\"), usando el siguiente pseudocódigo. \n",
    "~~~\n",
    "for i from 0 to 255\n",
    "    S[i] := i                                           (1)\n",
    "endfor\n",
    "j := 0                                                  (2)\n",
    "for i from 0 to 255                                     (3)\n",
    "    j := (j + S[i] + key[i mod keylength]) mod 256      (4)\n",
    "    swap values of S[i] and S[j]                        (5)\n",
    "endfor\n",
    "~~~"
   ]
  },
  {
   "cell_type": "code",
   "execution_count": 257,
   "metadata": {},
   "outputs": [],
   "source": [
    "def KSA(key):\n",
    "    S = list(range(256)) # (1)\n",
    "    j = 0   # (2)\n",
    "    for i in range(256):  # (3)\n",
    "        j = (j + S[i] + key[i % len(key)]) % 256 # (4) Mezcla los bytes con k\n",
    "        S[i], S[j] = S[j], S[i] # (5) swap\n",
    "    print(\"S-box:\",S)\n",
    "    return S"
   ]
  },
  {
   "attachments": {},
   "cell_type": "markdown",
   "metadata": {},
   "source": [
    "**Conslusión:** \n",
    "Podemos ver el KSA como una forma de ¿codificar? el *keystream* o llave"
   ]
  },
  {
   "attachments": {},
   "cell_type": "markdown",
   "metadata": {},
   "source": [
    "##  Pseudo-Random Generation Algorithm (PRGA)\n",
    "~~~\n",
    "i := 0\n",
    "j := 0\n",
    "while GeneratingOutput:\n",
    "    i := (i + 1) mod 256\n",
    "    j := (j + S[i]) mod 256\n",
    "    swap values of S[i] and S[j]\n",
    "    K := S[(S[i] + S[j]) mod 256]\n",
    "    output K\n",
    "endwhile\n",
    "~~~\n",
    "https://en.wikipedia.org/wiki/RC4\n"
   ]
  },
  {
   "cell_type": "code",
   "execution_count": 314,
   "metadata": {},
   "outputs": [],
   "source": [
    "def PRGA(S,plaintext):\n",
    "\ti = j = 0\n",
    "\tks = []\n",
    "\tfor char in plaintext:\n",
    "\t\ti = (i + 1) % 256\n",
    "\t\tj = (j + S[i]) % 256\n",
    "\t\tS[i], S[j] = S[j], S[i]\n",
    "\t\tk = S[(S[i] + S[j]) % 256] # Pseudo-aleatoriedad\n",
    "\t\tks.append(k)   \n",
    "\tprint(\"Pseudo-aleatorizacin de la S-Box:\",ks) \n",
    "\treturn ks"
   ]
  },
  {
   "attachments": {},
   "cell_type": "markdown",
   "metadata": {},
   "source": [
    "## Implemetación de RC4"
   ]
  },
  {
   "attachments": {},
   "cell_type": "markdown",
   "metadata": {},
   "source": [
    "En este caso se muestra que el algoritmo funciona para cualquier grupo de bytes"
   ]
  },
  {
   "cell_type": "code",
   "execution_count": 310,
   "metadata": {},
   "outputs": [],
   "source": [
    "def rc4(key, plaintext):\n",
    "  # Key-scheduling algorithm (KSA)\n",
    "  S = KSA(key)\n",
    "  # Pseudo-random generation algorithm (PRGA)    \n",
    "  k = PRGA(S,plaintext)                                                                                                                                            \n",
    "  # Operación XOR\n",
    "  out = []\n",
    "  for i in range(len(plaintext)):\n",
    "    out.append(plaintext[i]^k[i])\n",
    "    display(Math(f'\\\\text{{PRGA: }}{plaintext[i]} \\oplus {k[i]}'))\n",
    "  return bytes(out)"
   ]
  },
  {
   "attachments": {},
   "cell_type": "markdown",
   "metadata": {},
   "source": [
    "**Nota:** Cabe aclarar que la llave $k$ y el mensaje $m$ deben tener la misma longitud"
   ]
  },
  {
   "cell_type": "code",
   "execution_count": 324,
   "metadata": {},
   "outputs": [
    {
     "name": "stdout",
     "output_type": "stream",
     "text": [
      "Mensaje Original:  b'Hola'\n",
      "Llave:  b'\\xf8\\x08\\xbcI'\n"
     ]
    }
   ],
   "source": [
    "import os\n",
    "m = b'Hola'\n",
    "k = os.urandom(len(m))  # Llave aleatoria de misma longitud del mensaje en bytes\n",
    "print(\"Mensaje Original: \",m)\n",
    "print(\"Llave: \",k)"
   ]
  },
  {
   "cell_type": "code",
   "execution_count": 325,
   "metadata": {},
   "outputs": [
    {
     "name": "stdout",
     "output_type": "stream",
     "text": [
      "S-box: [119, 1, 49, 11, 12, 161, 17, 35, 80, 157, 250, 45, 74, 211, 41, 101, 253, 32, 31, 204, 40, 173, 215, 24, 34, 85, 155, 88, 150, 187, 43, 249, 162, 58, 39, 96, 209, 79, 148, 244, 201, 44, 23, 93, 97, 193, 168, 105, 75, 132, 110, 238, 111, 83, 154, 158, 206, 131, 236, 18, 165, 233, 227, 152, 67, 117, 71, 118, 50, 170, 108, 78, 13, 176, 103, 102, 169, 183, 141, 178, 109, 198, 100, 126, 216, 125, 104, 68, 115, 124, 222, 181, 160, 218, 52, 63, 172, 3, 120, 246, 232, 2, 225, 26, 235, 196, 5, 140, 73, 4, 114, 106, 76, 174, 156, 130, 8, 33, 163, 248, 7, 36, 194, 134, 208, 72, 27, 59, 87, 226, 185, 121, 231, 51, 127, 197, 128, 62, 55, 207, 142, 234, 167, 60, 219, 98, 195, 164, 81, 56, 237, 175, 107, 224, 6, 30, 37, 192, 151, 116, 77, 65, 189, 145, 123, 147, 220, 243, 171, 223, 255, 84, 90, 230, 191, 15, 190, 69, 177, 92, 242, 144, 138, 122, 64, 143, 159, 182, 221, 210, 53, 57, 229, 136, 29, 47, 14, 241, 146, 217, 9, 66, 254, 252, 19, 20, 247, 10, 135, 133, 48, 228, 203, 239, 99, 184, 245, 61, 200, 186, 251, 153, 38, 25, 199, 89, 166, 149, 95, 46, 179, 113, 212, 94, 28, 0, 205, 202, 129, 86, 139, 214, 54, 16, 22, 21, 91, 42, 180, 112, 213, 188, 70, 137, 240, 82]\n",
      "Pseudo-aleatorizacin de la S-Box: [49, 116, 22, 221]\n"
     ]
    },
    {
     "data": {
      "text/latex": [
       "$\\displaystyle \\text{PRGA: }72 \\oplus 49$"
      ],
      "text/plain": [
       "<IPython.core.display.Math object>"
      ]
     },
     "metadata": {},
     "output_type": "display_data"
    },
    {
     "data": {
      "text/latex": [
       "$\\displaystyle \\text{PRGA: }111 \\oplus 116$"
      ],
      "text/plain": [
       "<IPython.core.display.Math object>"
      ]
     },
     "metadata": {},
     "output_type": "display_data"
    },
    {
     "data": {
      "text/latex": [
       "$\\displaystyle \\text{PRGA: }108 \\oplus 22$"
      ],
      "text/plain": [
       "<IPython.core.display.Math object>"
      ]
     },
     "metadata": {},
     "output_type": "display_data"
    },
    {
     "data": {
      "text/latex": [
       "$\\displaystyle \\text{PRGA: }97 \\oplus 221$"
      ],
      "text/plain": [
       "<IPython.core.display.Math object>"
      ]
     },
     "metadata": {},
     "output_type": "display_data"
    },
    {
     "name": "stdout",
     "output_type": "stream",
     "text": [
      "Mensaje cifrado:  b'y\\x1bz\\xbc'\n"
     ]
    }
   ],
   "source": [
    "e = rc4(k,m)\n",
    "print(\"Mensaje cifrado: \",e)"
   ]
  },
  {
   "cell_type": "code",
   "execution_count": 326,
   "metadata": {},
   "outputs": [
    {
     "name": "stdout",
     "output_type": "stream",
     "text": [
      "S-box: [119, 1, 49, 11, 12, 161, 17, 35, 80, 157, 250, 45, 74, 211, 41, 101, 253, 32, 31, 204, 40, 173, 215, 24, 34, 85, 155, 88, 150, 187, 43, 249, 162, 58, 39, 96, 209, 79, 148, 244, 201, 44, 23, 93, 97, 193, 168, 105, 75, 132, 110, 238, 111, 83, 154, 158, 206, 131, 236, 18, 165, 233, 227, 152, 67, 117, 71, 118, 50, 170, 108, 78, 13, 176, 103, 102, 169, 183, 141, 178, 109, 198, 100, 126, 216, 125, 104, 68, 115, 124, 222, 181, 160, 218, 52, 63, 172, 3, 120, 246, 232, 2, 225, 26, 235, 196, 5, 140, 73, 4, 114, 106, 76, 174, 156, 130, 8, 33, 163, 248, 7, 36, 194, 134, 208, 72, 27, 59, 87, 226, 185, 121, 231, 51, 127, 197, 128, 62, 55, 207, 142, 234, 167, 60, 219, 98, 195, 164, 81, 56, 237, 175, 107, 224, 6, 30, 37, 192, 151, 116, 77, 65, 189, 145, 123, 147, 220, 243, 171, 223, 255, 84, 90, 230, 191, 15, 190, 69, 177, 92, 242, 144, 138, 122, 64, 143, 159, 182, 221, 210, 53, 57, 229, 136, 29, 47, 14, 241, 146, 217, 9, 66, 254, 252, 19, 20, 247, 10, 135, 133, 48, 228, 203, 239, 99, 184, 245, 61, 200, 186, 251, 153, 38, 25, 199, 89, 166, 149, 95, 46, 179, 113, 212, 94, 28, 0, 205, 202, 129, 86, 139, 214, 54, 16, 22, 21, 91, 42, 180, 112, 213, 188, 70, 137, 240, 82]\n",
      "Pseudo-aleatorizacin de la S-Box: [49, 116, 22, 221]\n"
     ]
    },
    {
     "data": {
      "text/latex": [
       "$\\displaystyle \\text{PRGA: }121 \\oplus 49$"
      ],
      "text/plain": [
       "<IPython.core.display.Math object>"
      ]
     },
     "metadata": {},
     "output_type": "display_data"
    },
    {
     "data": {
      "text/latex": [
       "$\\displaystyle \\text{PRGA: }27 \\oplus 116$"
      ],
      "text/plain": [
       "<IPython.core.display.Math object>"
      ]
     },
     "metadata": {},
     "output_type": "display_data"
    },
    {
     "data": {
      "text/latex": [
       "$\\displaystyle \\text{PRGA: }122 \\oplus 22$"
      ],
      "text/plain": [
       "<IPython.core.display.Math object>"
      ]
     },
     "metadata": {},
     "output_type": "display_data"
    },
    {
     "data": {
      "text/latex": [
       "$\\displaystyle \\text{PRGA: }188 \\oplus 221$"
      ],
      "text/plain": [
       "<IPython.core.display.Math object>"
      ]
     },
     "metadata": {},
     "output_type": "display_data"
    },
    {
     "name": "stdout",
     "output_type": "stream",
     "text": [
      "Mensaje descifrado:  b'Hola'\n"
     ]
    }
   ],
   "source": [
    "c = rc4(k,e)\n",
    "print(\"Mensaje descifrado: \",c)"
   ]
  },
  {
   "attachments": {},
   "cell_type": "markdown",
   "metadata": {},
   "source": [
    "# IVs con RC4\n",
    "\n",
    "* We increment i and use it to index into S, generating a new value S[i].\n",
    "* We increment j by S[i] modulo 256, and use it to index into S, generating a new value S[j].\n",
    "* We swap S[i] and S[j].\n",
    "* We XOR the current byte of data `data[k]` with the byte at index (S[i] + S[j]) % 256 in S, and with the byte at index k % len(iv) in iv.\n",
    "* We append the resulting byte to our output array out."
   ]
  },
  {
   "cell_type": "code",
   "execution_count": 323,
   "metadata": {},
   "outputs": [],
   "source": [
    "from typing import List\n",
    "\n",
    "def rc4_2(key: bytes, plaintext: bytes, iv: bytes) -> bytes:\n",
    "    \n",
    "    # Key-Scheduling Algorithm (KSA)\n",
    "    S = KSA(key)\n",
    "\n",
    "    k = PRGA(S,plaintext)\n",
    "\n",
    "    # Operación XOR\n",
    "    out = []\n",
    "    for i in range(len(plaintext)):\n",
    "        iv_i = iv[i % len(iv)]\n",
    "        out.append(plaintext[i]^k[i] ^ iv_i)\n",
    "        display(Math(f'\\\\text{{PRGA: }}{plaintext[i]} \\oplus {k[i]} \\oplus {iv_i}'))\n",
    "        \n",
    "    return bytes(out)\n",
    "    "
   ]
  },
  {
   "cell_type": "code",
   "execution_count": 320,
   "metadata": {},
   "outputs": [
    {
     "name": "stdout",
     "output_type": "stream",
     "text": [
      "b'\\xc3m\\xfe\\x9d'\n",
      "Mensaje Original:  b'Hola'\n",
      "Llave:  b'\\xc3m\\xfe\\x9d'\n",
      "IV:  [222, 200, 60, 120]\n"
     ]
    }
   ],
   "source": [
    "import os\n",
    "import random\n",
    "iv = [random.randint(0, 255) for i in range(4)]\n",
    "m = b'Hola'\n",
    "k = os.urandom(len(m))  # Llave aleatoria de misma longitud del mensaje en bytes\n",
    "print(k)\n",
    "print(\"Mensaje Original: \",m)\n",
    "print(\"Llave: \",k)\n",
    "print(\"IV: \",iv)"
   ]
  },
  {
   "cell_type": "code",
   "execution_count": 321,
   "metadata": {},
   "outputs": [
    {
     "name": "stdout",
     "output_type": "stream",
     "text": [
      "S-box: [195, 21, 31, 209, 152, 37, 14, 178, 125, 128, 238, 158, 109, 231, 235, 151, 28, 184, 248, 15, 127, 174, 185, 63, 92, 42, 123, 186, 217, 99, 177, 59, 65, 182, 204, 140, 52, 10, 218, 118, 222, 107, 94, 74, 175, 51, 255, 203, 190, 211, 205, 2, 173, 198, 78, 90, 23, 61, 154, 43, 77, 46, 86, 45, 97, 137, 224, 192, 199, 50, 189, 161, 147, 44, 139, 180, 221, 85, 75, 116, 38, 121, 149, 133, 156, 81, 207, 73, 8, 206, 143, 80, 167, 60, 82, 254, 67, 131, 171, 253, 102, 4, 165, 202, 83, 30, 141, 153, 105, 181, 58, 241, 162, 96, 226, 138, 3, 210, 120, 117, 68, 196, 100, 34, 227, 113, 70, 53, 243, 247, 200, 142, 19, 169, 236, 40, 145, 13, 134, 124, 110, 214, 66, 89, 191, 245, 16, 33, 159, 71, 129, 111, 49, 135, 163, 219, 114, 48, 47, 56, 157, 130, 229, 132, 223, 79, 146, 166, 35, 91, 20, 197, 64, 115, 26, 57, 252, 103, 194, 212, 36, 18, 172, 179, 240, 213, 55, 41, 95, 0, 122, 136, 126, 176, 72, 84, 9, 220, 22, 5, 54, 193, 88, 168, 12, 93, 234, 87, 233, 188, 183, 201, 62, 29, 225, 150, 228, 106, 17, 170, 1, 25, 69, 230, 108, 249, 215, 119, 237, 251, 7, 6, 187, 101, 250, 76, 144, 32, 246, 242, 232, 112, 39, 216, 24, 27, 104, 239, 244, 148, 155, 11, 164, 208, 160, 98]\n",
      "Pseudo-aleatorizacin de la S-Box: [84, 12, 104, 54]\n"
     ]
    },
    {
     "data": {
      "text/latex": [
       "$\\displaystyle \\text{PRGA: }72 \\oplus 84 \\oplus 222$"
      ],
      "text/plain": [
       "<IPython.core.display.Math object>"
      ]
     },
     "metadata": {},
     "output_type": "display_data"
    },
    {
     "data": {
      "text/latex": [
       "$\\displaystyle \\text{PRGA: }111 \\oplus 12 \\oplus 200$"
      ],
      "text/plain": [
       "<IPython.core.display.Math object>"
      ]
     },
     "metadata": {},
     "output_type": "display_data"
    },
    {
     "data": {
      "text/latex": [
       "$\\displaystyle \\text{PRGA: }108 \\oplus 104 \\oplus 60$"
      ],
      "text/plain": [
       "<IPython.core.display.Math object>"
      ]
     },
     "metadata": {},
     "output_type": "display_data"
    },
    {
     "data": {
      "text/latex": [
       "$\\displaystyle \\text{PRGA: }97 \\oplus 54 \\oplus 120$"
      ],
      "text/plain": [
       "<IPython.core.display.Math object>"
      ]
     },
     "metadata": {},
     "output_type": "display_data"
    },
    {
     "name": "stdout",
     "output_type": "stream",
     "text": [
      "Mensaje cifrado:  b'\\xc2\\xab8/'\n"
     ]
    }
   ],
   "source": [
    "e = rc4_2(k,m,iv)\n",
    "print(\"Mensaje cifrado: \",e)"
   ]
  },
  {
   "cell_type": "code",
   "execution_count": 322,
   "metadata": {},
   "outputs": [
    {
     "name": "stdout",
     "output_type": "stream",
     "text": [
      "S-box: [195, 21, 31, 209, 152, 37, 14, 178, 125, 128, 238, 158, 109, 231, 235, 151, 28, 184, 248, 15, 127, 174, 185, 63, 92, 42, 123, 186, 217, 99, 177, 59, 65, 182, 204, 140, 52, 10, 218, 118, 222, 107, 94, 74, 175, 51, 255, 203, 190, 211, 205, 2, 173, 198, 78, 90, 23, 61, 154, 43, 77, 46, 86, 45, 97, 137, 224, 192, 199, 50, 189, 161, 147, 44, 139, 180, 221, 85, 75, 116, 38, 121, 149, 133, 156, 81, 207, 73, 8, 206, 143, 80, 167, 60, 82, 254, 67, 131, 171, 253, 102, 4, 165, 202, 83, 30, 141, 153, 105, 181, 58, 241, 162, 96, 226, 138, 3, 210, 120, 117, 68, 196, 100, 34, 227, 113, 70, 53, 243, 247, 200, 142, 19, 169, 236, 40, 145, 13, 134, 124, 110, 214, 66, 89, 191, 245, 16, 33, 159, 71, 129, 111, 49, 135, 163, 219, 114, 48, 47, 56, 157, 130, 229, 132, 223, 79, 146, 166, 35, 91, 20, 197, 64, 115, 26, 57, 252, 103, 194, 212, 36, 18, 172, 179, 240, 213, 55, 41, 95, 0, 122, 136, 126, 176, 72, 84, 9, 220, 22, 5, 54, 193, 88, 168, 12, 93, 234, 87, 233, 188, 183, 201, 62, 29, 225, 150, 228, 106, 17, 170, 1, 25, 69, 230, 108, 249, 215, 119, 237, 251, 7, 6, 187, 101, 250, 76, 144, 32, 246, 242, 232, 112, 39, 216, 24, 27, 104, 239, 244, 148, 155, 11, 164, 208, 160, 98]\n",
      "Pseudo-aleatorizacin de la S-Box: [84, 12, 104, 54]\n"
     ]
    },
    {
     "data": {
      "text/latex": [
       "$\\displaystyle \\text{PRGA: }194 \\oplus 84 \\oplus 222$"
      ],
      "text/plain": [
       "<IPython.core.display.Math object>"
      ]
     },
     "metadata": {},
     "output_type": "display_data"
    },
    {
     "data": {
      "text/latex": [
       "$\\displaystyle \\text{PRGA: }171 \\oplus 12 \\oplus 200$"
      ],
      "text/plain": [
       "<IPython.core.display.Math object>"
      ]
     },
     "metadata": {},
     "output_type": "display_data"
    },
    {
     "data": {
      "text/latex": [
       "$\\displaystyle \\text{PRGA: }56 \\oplus 104 \\oplus 60$"
      ],
      "text/plain": [
       "<IPython.core.display.Math object>"
      ]
     },
     "metadata": {},
     "output_type": "display_data"
    },
    {
     "data": {
      "text/latex": [
       "$\\displaystyle \\text{PRGA: }47 \\oplus 54 \\oplus 120$"
      ],
      "text/plain": [
       "<IPython.core.display.Math object>"
      ]
     },
     "metadata": {},
     "output_type": "display_data"
    },
    {
     "name": "stdout",
     "output_type": "stream",
     "text": [
      "Mensaje descifrado:  b'Hola'\n"
     ]
    }
   ],
   "source": [
    "c = rc4_2(k,e,iv)\n",
    "print(\"Mensaje descifrado: \",c)"
   ]
  },
  {
   "attachments": {},
   "cell_type": "markdown",
   "metadata": {},
   "source": [
    "# Q&A\n",
    "* ¿Todos los cifrados simétricos utilizan el mismo metodo para cifrar y descifrar?"
   ]
  }
 ],
 "metadata": {
  "kernelspec": {
   "display_name": "Python 3",
   "language": "python",
   "name": "python3"
  },
  "language_info": {
   "codemirror_mode": {
    "name": "ipython",
    "version": 3
   },
   "file_extension": ".py",
   "mimetype": "text/x-python",
   "name": "python",
   "nbconvert_exporter": "python",
   "pygments_lexer": "ipython3",
   "version": "3.8.10"
  },
  "orig_nbformat": 4
 },
 "nbformat": 4,
 "nbformat_minor": 2
}
